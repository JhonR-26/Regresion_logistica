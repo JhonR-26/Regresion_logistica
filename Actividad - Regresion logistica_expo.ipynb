{
  "nbformat": 4,
  "nbformat_minor": 0,
  "metadata": {
    "colab": {
      "provenance": [],
      "include_colab_link": true
    },
    "kernelspec": {
      "display_name": "Julia",
      "language": "julia",
      "name": "julia"
    },
    "language_info": {
      "file_extension": ".jl",
      "mimetype": "application/julia",
      "name": "julia"
    },
    "gpuClass": "standard"
  },
  "cells": [
    {
      "cell_type": "markdown",
      "metadata": {
        "id": "view-in-github",
        "colab_type": "text"
      },
      "source": [
        "<a href=\"https://colab.research.google.com/github/JhonR-26/Regresion_logistica/blob/main/Actividad%20-%20Regresion%20logistica_expo.ipynb\" target=\"_parent\"><img src=\"https://colab.research.google.com/assets/colab-badge.svg\" alt=\"Open In Colab\"/></a>"
      ]
    },
    {
      "cell_type": "code",
      "metadata": {
        "id": "GIeFXS0F0zww"
      },
      "source": [
        "%%shell\n",
        "set -e\n",
        "\n",
        "#---------------------------------------------------#\n",
        "JULIA_VERSION=\"1.8.2\" # any version ≥ 0.7.0\n",
        "JULIA_PACKAGES=\"IJulia BenchmarkTools\"\n",
        "JULIA_PACKAGES_IF_GPU=\"CUDA\" # or CuArrays for older Julia versions\n",
        "JULIA_NUM_THREADS=2\n",
        "#---------------------------------------------------#\n",
        "\n",
        "if [ -z `which julia` ]; then\n",
        "  # Install Julia\n",
        "  JULIA_VER=`cut -d '.' -f -2 <<< \"$JULIA_VERSION\"`\n",
        "  echo \"Installing Julia $JULIA_VERSION on the current Colab Runtime...\"\n",
        "  BASE_URL=\"https://julialang-s3.julialang.org/bin/linux/x64\"\n",
        "  URL=\"$BASE_URL/$JULIA_VER/julia-$JULIA_VERSION-linux-x86_64.tar.gz\"\n",
        "  wget -nv $URL -O /tmp/julia.tar.gz # -nv means \"not verbose\"\n",
        "  tar -x -f /tmp/julia.tar.gz -C /usr/local --strip-components 1\n",
        "  rm /tmp/julia.tar.gz\n",
        "\n",
        "  # Install Packages\n",
        "  nvidia-smi -L &> /dev/null && export GPU=1 || export GPU=0\n",
        "  if [ $GPU -eq 1 ]; then\n",
        "    JULIA_PACKAGES=\"$JULIA_PACKAGES $JULIA_PACKAGES_IF_GPU\"\n",
        "  fi\n",
        "  for PKG in `echo $JULIA_PACKAGES`; do\n",
        "    echo \"Installing Julia package $PKG...\"\n",
        "    julia -e 'using Pkg; pkg\"add '$PKG'; precompile;\"' &> /dev/null\n",
        "  done\n",
        "\n",
        "  # Install kernel and rename it to \"julia\"\n",
        "  echo \"Installing IJulia kernel...\"\n",
        "  julia -e 'using IJulia; IJulia.installkernel(\"julia\", env=Dict(\n",
        "      \"JULIA_NUM_THREADS\"=>\"'\"$JULIA_NUM_THREADS\"'\"))'\n",
        "  KERNEL_DIR=`julia -e \"using IJulia; print(IJulia.kerneldir())\"`\n",
        "  KERNEL_NAME=`ls -d \"$KERNEL_DIR\"/julia*`\n",
        "  mv -f $KERNEL_NAME \"$KERNEL_DIR\"/julia\n",
        "\n",
        "  echo ''\n",
        "  echo \"Successfully installed `julia -v`!\"\n",
        "  echo \"Please reload this page (press Ctrl+R, ⌘+R, or the F5 key) then\"\n",
        "  echo \"jump to the 'Checking the Installation' section.\"\n",
        "fi"
      ],
      "execution_count": null,
      "outputs": []
    },
    {
      "cell_type": "code",
      "source": [
        "# Paquetes necesarios\n",
        "import Pkg;\n",
        "Pkg.add(\"Lathe\")\n",
        "using Lathe\n",
        "\n",
        "Pkg.add(\"DataFrames\")\n",
        "using DataFrames\n",
        "\n",
        "Pkg.add(\"GLM\")\n",
        "using GLM\n",
        "\n",
        "Pkg.add(\"StatsBase\")\n",
        "using StatsBase\n",
        "\n",
        "Pkg.add(\"MLBase\")\n",
        "using MLBase\n",
        "\n",
        "Pkg.add(\"ROCAnalysis\")\n",
        "using ROCAnalysis\n",
        "\n",
        "Pkg.add(\"CSV\")\n",
        "using CSV\n",
        "\n",
        "Pkg.add(\"Printf\")\n",
        "using Printf"
      ],
      "metadata": {
        "id": "iCW6esfE5jZs"
      },
      "execution_count": null,
      "outputs": []
    },
    {
      "cell_type": "code",
      "source": [
        "# Ruta al archivo Excel\n",
        "ruta_archivo = \"/content/Base_de_datos_.xlsx - Hoja 1.csv\"\n",
        "\n",
        "# Convertir el archivo en un DataFrame\n",
        "df = CSV.File(ruta_archivo) |> DataFrame"
      ],
      "metadata": {
        "id": "QzfClguWU8mE"
      },
      "execution_count": null,
      "outputs": []
    },
    {
      "cell_type": "code",
      "source": [
        "# Conjunto train y test\n",
        "using Lathe.preprocess: TrainTestSplit\n",
        "train, test = TrainTestSplit(df, .80);\n",
        "\n",
        "# Entrenamiento del modelo\n",
        "fm = @formula(clase ~ duracion + paginas + acciones + valor)\n",
        "logit = glm(fm, train, Binomial(), ProbitLink())"
      ],
      "metadata": {
        "id": "o49MoaxhVP3D",
        "outputId": "460641e3-d676-4842-8e02-63d5803270ba",
        "colab": {
          "base_uri": "https://localhost:8080/"
        }
      },
      "execution_count": 30,
      "outputs": [
        {
          "output_type": "execute_result",
          "data": {
            "text/plain": [
              "StatsModels.TableRegressionModel{GeneralizedLinearModel{GLM.GlmResp{Vector{Float64}, Binomial{Float64}, ProbitLink}, GLM.DensePredChol{Float64, LinearAlgebra.CholeskyPivoted{Float64, Matrix{Float64}, Vector{Int64}}}}, Matrix{Float64}}\n",
              "\n",
              "clase ~ 1 + duracion + paginas + acciones + valor\n",
              "\n",
              "Coefficients:\n",
              "────────────────────────────────────────────────────────────────────────────────\n",
              "                   Coef.   Std. Error      z  Pr(>|z|)    Lower 95%    Upper 95%\n",
              "────────────────────────────────────────────────────────────────────────────────\n",
              "(Intercept)  -0.00716708  0.205073     -0.03    0.9721  -0.409102     0.394768\n",
              "duracion      0.00115043  0.000669493   1.72    0.0857  -0.00016175   0.00246261\n",
              "paginas       0.313668    0.122935      2.55    0.0107   0.0727199    0.554617\n",
              "acciones     -0.168384    0.0521831    -3.23    0.0013  -0.270661    -0.0661072\n",
              "valor         0.0148742   0.00847748    1.75    0.0793  -0.00174136   0.0314898\n",
              "────────────────────────────────────────────────────────────────────────────────"
            ]
          },
          "metadata": {},
          "execution_count": 30
        }
      ]
    },
    {
      "cell_type": "code",
      "source": [
        "# Coeficientes (B0, B1, B2, B3, B4)\n",
        "coeficientes = coef(logit)\n",
        "\n",
        "# Reordenar el número con dos decimales\n",
        "B0 = @sprintf(\"%.4f\", coeficientes[1])\n",
        "B1 = @sprintf(\"%.4f\", coeficientes[2])\n",
        "B2 = @sprintf(\"%.4f\", coeficientes[3])\n",
        "B3 = @sprintf(\"%.4f\", coeficientes[4])\n",
        "B4 = @sprintf(\"%.4f\", coeficientes[5])\n",
        "\n",
        "println(\"B0 = \", B0, \"\\n\", \"B1 = \", B1, \"\\n\", \"B2 = \", B2, \"\\n\", \"B3 = \", B3, \"\\n\", \"B4 = \", B4)"
      ],
      "metadata": {
        "id": "ZIa9GV-6V7zy",
        "outputId": "0b31abe3-5c47-4201-a2a2-9482a954a20e",
        "colab": {
          "base_uri": "https://localhost:8080/"
        }
      },
      "execution_count": 17,
      "outputs": [
        {
          "output_type": "stream",
          "name": "stdout",
          "text": [
            "B0 = 0.0110\n",
            "B1 = 0.0010\n",
            "B2 = 0.2782\n",
            "B3 = -0.1360\n",
            "B4 = 0.0075\n"
          ]
        }
      ]
    },
    {
      "cell_type": "code",
      "source": [
        "# Construir la fórmula\n",
        "formula_ = \"P = 1 / (1 + exp(-(B0 + B1x1 + B2x2 + B3x3 + B4x4)))\"\n",
        "\n",
        "# Reemplazar los valores de los coeficientes en la fórmula\n",
        "formula_log = replace(formula_, \"B0\" => B0, \"B1\" => B1, \"B2\" => B2, \"B3\" => B3, \"B4\" => B4)\n",
        "\n",
        "println(\"Fórmula:\")\n",
        "println(formula_log)"
      ],
      "metadata": {
        "id": "VvdDfmqxYYhd",
        "outputId": "387392bb-d7b4-44e6-b9eb-223d1595a87d",
        "colab": {
          "base_uri": "https://localhost:8080/"
        }
      },
      "execution_count": 19,
      "outputs": [
        {
          "output_type": "stream",
          "name": "stdout",
          "text": [
            "Fórmula:\n",
            "P = 1 / (1 + exp(-(0.0110 + 0.0010x1 + 0.2782x2 + -0.1360x3 + 0.0075x4)))\n"
          ]
        }
      ]
    },
    {
      "cell_type": "code",
      "source": [
        "# Calcular predicciones\n",
        "prediccion = predict(logit, test)"
      ],
      "metadata": {
        "id": "tpZnMlLXZOWf"
      },
      "execution_count": null,
      "outputs": []
    },
    {
      "cell_type": "code",
      "source": [
        "# Clasificacion de los datos\n",
        "evaluacion = [if x < 0.5 0 else 1 end for x in prediccion];\n",
        "\n",
        "prediccion_df = DataFrame(y_actual = test.clase,\n",
        "\t\t\t\t\t\ty_predicted = evaluacion,\n",
        "\t\t\t\t\t\tprob_predicted = prediccion);\n",
        "prediccion_df.correctly_classified = prediccion_df.y_actual .== prediccion_df.y_predicted"
      ],
      "metadata": {
        "id": "sGi4WJPPZTDq"
      },
      "execution_count": null,
      "outputs": []
    },
    {
      "cell_type": "code",
      "source": [
        "# Matriz de confusion\n",
        "matriz_de_confusion = MLBase.roc(prediccion_df.y_actual, prediccion_df.y_predicted)\n",
        "\n",
        "# Guardado de los valores de la matriz de confusion\n",
        "tp = matriz_de_confusion.tp\n",
        "tn = matriz_de_confusion.tn\n",
        "fp = matriz_de_confusion.fp\n",
        "fn = matriz_de_confusion.fn\n",
        "\n",
        "print(matriz_de_confusion)"
      ],
      "metadata": {
        "id": "Da57nHBQZ63p",
        "outputId": "be2106f2-47d6-4a01-957b-5e67980ff510",
        "colab": {
          "base_uri": "https://localhost:8080/"
        }
      },
      "execution_count": 26,
      "outputs": [
        {
          "output_type": "stream",
          "name": "stdout",
          "text": [
            "ROCNums{Int64}\n",
            "  p = 15\n",
            "  n = 13\n",
            "  tp = 7\n",
            "  tn = 12\n",
            "  fp = 1\n",
            "  fn = 8\n"
          ]
        }
      ]
    },
    {
      "cell_type": "code",
      "source": [
        "# Exactitud, Precision y Sensibilidad del modelo\n",
        "Exactitud = (tp + tn)/(tp + tn + fp + fn)\n",
        "Precision = tp/(tp + fn)\n",
        "Sensibilidad = tp/(tp + fn)\n",
        "println(\"Exactitud = \", Exactitud, \"\\n\", \"Precision = \", Precision, \"\\n\", \"Sensibilidad = \", Sensibilidad)"
      ],
      "metadata": {
        "id": "kzpdJg_2bP7X",
        "outputId": "30372bce-f21f-4cb7-a4bd-962fa30c001c",
        "colab": {
          "base_uri": "https://localhost:8080/"
        }
      },
      "execution_count": null,
      "outputs": [
        {
          "output_type": "stream",
          "name": "stdout",
          "text": [
            "Exactitud = 0.7555555555555555\n",
            "Precision = 0.8\n",
            "Sensibilidad = 0.8\n"
          ]
        }
      ]
    }
  ]
}