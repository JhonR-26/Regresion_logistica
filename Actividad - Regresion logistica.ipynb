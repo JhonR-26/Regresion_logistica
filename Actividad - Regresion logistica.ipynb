{
  "nbformat": 4,
  "nbformat_minor": 0,
  "metadata": {
    "colab": {
      "provenance": [],
      "include_colab_link": true
    },
    "kernelspec": {
      "display_name": "Julia",
      "language": "julia",
      "name": "julia"
    },
    "language_info": {
      "file_extension": ".jl",
      "mimetype": "application/julia",
      "name": "julia"
    },
    "gpuClass": "standard"
  },
  "cells": [
    {
      "cell_type": "markdown",
      "metadata": {
        "id": "view-in-github",
        "colab_type": "text"
      },
      "source": [
        "<a href=\"https://colab.research.google.com/github/JhonR-26/Regresion_logistica/blob/main/Actividad%20-%20Regresion%20logistica.ipynb\" target=\"_parent\"><img src=\"https://colab.research.google.com/assets/colab-badge.svg\" alt=\"Open In Colab\"/></a>"
      ]
    },
    {
      "cell_type": "code",
      "metadata": {
        "id": "GIeFXS0F0zww"
      },
      "source": [
        "%%shell\n",
        "set -e\n",
        "\n",
        "#---------------------------------------------------#\n",
        "JULIA_VERSION=\"1.8.2\" # any version ≥ 0.7.0\n",
        "JULIA_PACKAGES=\"IJulia BenchmarkTools\"\n",
        "JULIA_PACKAGES_IF_GPU=\"CUDA\" # or CuArrays for older Julia versions\n",
        "JULIA_NUM_THREADS=2\n",
        "#---------------------------------------------------#\n",
        "\n",
        "if [ -z `which julia` ]; then\n",
        "  # Install Julia\n",
        "  JULIA_VER=`cut -d '.' -f -2 <<< \"$JULIA_VERSION\"`\n",
        "  echo \"Installing Julia $JULIA_VERSION on the current Colab Runtime...\"\n",
        "  BASE_URL=\"https://julialang-s3.julialang.org/bin/linux/x64\"\n",
        "  URL=\"$BASE_URL/$JULIA_VER/julia-$JULIA_VERSION-linux-x86_64.tar.gz\"\n",
        "  wget -nv $URL -O /tmp/julia.tar.gz # -nv means \"not verbose\"\n",
        "  tar -x -f /tmp/julia.tar.gz -C /usr/local --strip-components 1\n",
        "  rm /tmp/julia.tar.gz\n",
        "\n",
        "  # Install Packages\n",
        "  nvidia-smi -L &> /dev/null && export GPU=1 || export GPU=0\n",
        "  if [ $GPU -eq 1 ]; then\n",
        "    JULIA_PACKAGES=\"$JULIA_PACKAGES $JULIA_PACKAGES_IF_GPU\"\n",
        "  fi\n",
        "  for PKG in `echo $JULIA_PACKAGES`; do\n",
        "    echo \"Installing Julia package $PKG...\"\n",
        "    julia -e 'using Pkg; pkg\"add '$PKG'; precompile;\"' &> /dev/null\n",
        "  done\n",
        "\n",
        "  # Install kernel and rename it to \"julia\"\n",
        "  echo \"Installing IJulia kernel...\"\n",
        "  julia -e 'using IJulia; IJulia.installkernel(\"julia\", env=Dict(\n",
        "      \"JULIA_NUM_THREADS\"=>\"'\"$JULIA_NUM_THREADS\"'\"))'\n",
        "  KERNEL_DIR=`julia -e \"using IJulia; print(IJulia.kerneldir())\"`\n",
        "  KERNEL_NAME=`ls -d \"$KERNEL_DIR\"/julia*`\n",
        "  mv -f $KERNEL_NAME \"$KERNEL_DIR\"/julia\n",
        "\n",
        "  echo ''\n",
        "  echo \"Successfully installed `julia -v`!\"\n",
        "  echo \"Please reload this page (press Ctrl+R, ⌘+R, or the F5 key) then\"\n",
        "  echo \"jump to the 'Checking the Installation' section.\"\n",
        "fi"
      ],
      "execution_count": null,
      "outputs": []
    },
    {
      "cell_type": "code",
      "source": [
        "# Import the packages\n",
        "import Pkg;\n",
        "Pkg.add(\"Lathe\")\n",
        "using Lathe\n",
        "\n",
        "import Pkg;\n",
        "Pkg.add(\"DataFrames\")\n",
        "using DataFrames\n",
        "\n",
        "import Pkg;\n",
        "Pkg.add(\"Plots\")\n",
        "using Plots;\n",
        "\n",
        "import Pkg;\n",
        "Pkg.add(\"GLM\")\n",
        "using GLM\n",
        "\n",
        "import Pkg;\n",
        "Pkg.add(\"StatsBase\")\n",
        "using StatsBase\n",
        "\n",
        "import Pkg;\n",
        "Pkg.add(\"MLBase\")\n",
        "using MLBase\n",
        "\n",
        "import Pkg;\n",
        "Pkg.add(\"ROCAnalysis\")\n",
        "using ROCAnalysis\n",
        "\n",
        "import Pkg;\n",
        "Pkg.add(\"CSV\")\n",
        "using CSV\n",
        "\n",
        "import Pkg;\n",
        "Pkg.add(\"HTTP\")\n",
        "using HTTP\n",
        "\n",
        "import Pkg;\n",
        "Pkg.add(\"Printf\")\n",
        "using Printf\n",
        "\n",
        "println(\"Successfully imported the packages!!\")"
      ],
      "metadata": {
        "id": "iCW6esfE5jZs"
      },
      "execution_count": null,
      "outputs": []
    },
    {
      "cell_type": "code",
      "source": [
        "using CSV\n",
        "using DataFrames\n",
        "\n",
        "# Ruta al archivo Excel\n",
        "ruta_archivo = \"/content/Base_de_datos_.xlsx - Hoja 1.csv\"\n",
        "\n",
        "# Leer el archivo Excel y convertirlo en un DataFrame\n",
        "df = CSV.File(ruta_archivo) |> DataFrame"
      ],
      "metadata": {
        "id": "QzfClguWU8mE"
      },
      "execution_count": null,
      "outputs": []
    },
    {
      "cell_type": "code",
      "source": [
        "# Supongamos que tienes un DataFrame llamado df y deseas convertir la columna 'columna_nombre'\n",
        "columna_lista = df[!, \"clase\"]\n",
        "lista_resultante = Vector(columna_lista)"
      ],
      "metadata": {
        "id": "01mwcIXgVMvC"
      },
      "execution_count": null,
      "outputs": []
    },
    {
      "cell_type": "code",
      "source": [
        "# Train test split\n",
        "using Lathe.preprocess: TrainTestSplit\n",
        "train, test = TrainTestSplit(df, .75);"
      ],
      "metadata": {
        "id": "o49MoaxhVP3D"
      },
      "execution_count": 114,
      "outputs": []
    },
    {
      "cell_type": "code",
      "source": [
        "# Train logistic regression model\n",
        "fm = @formula(clase ~ duracion + paginas + acciones + valor)\n",
        "logit = glm(fm, train, Binomial(), ProbitLink())"
      ],
      "metadata": {
        "id": "zxio-ldNVSIl"
      },
      "execution_count": null,
      "outputs": []
    },
    {
      "cell_type": "code",
      "source": [
        "# Coeficientes (B0, B1, B2, B3, B4)\n",
        "coeficientes = coef(logit)\n",
        "\n",
        "# Reordenar el número con dos decimales\n",
        "B0 = @sprintf(\"%.4f\", coeficientes[1])\n",
        "B1 = @sprintf(\"%.4f\", coeficientes[2])\n",
        "B2 = @sprintf(\"%.4f\", coeficientes[3])\n",
        "B3 = @sprintf(\"%.4f\", coeficientes[4])\n",
        "B4 = @sprintf(\"%.4f\", coeficientes[5])\n",
        "\n",
        "println(\"B0 = \", B0, \"\\n\", \"B1 = \", B1, \"\\n\", \"B2 = \", B2, \"\\n\", \"B3 = \", B3, \"\\n\", \"B4 = \", B4)"
      ],
      "metadata": {
        "id": "ZIa9GV-6V7zy",
        "outputId": "eb550d7d-1def-4270-ca3e-00d11834b490",
        "colab": {
          "base_uri": "https://localhost:8080/"
        }
      },
      "execution_count": 116,
      "outputs": [
        {
          "output_type": "stream",
          "name": "stdout",
          "text": [
            "B0 = 0.1600\n",
            "B1 = 0.0012\n",
            "B2 = 0.2741\n",
            "B3 = -0.1509\n",
            "B4 = 0.0100\n"
          ]
        }
      ]
    },
    {
      "cell_type": "code",
      "source": [
        "# Construir la fórmula de regresión logística\n",
        "formula_ = \"P = 1 / (1 + exp(-(B0 + B1x1 + B2x2 + B3x3 + B4x4)))\"\n",
        "\n",
        "# Reemplazar los valores de los coeficientes en la fórmula\n",
        "formula_regresion_logistica = replace(formula_, \"B0\" => B0, \"B1\" => B1, \"B2\" => B2, \"B3\" => B3, \"B4\" => B4)\n",
        "\n",
        "println(\"Fórmula de la regresión logística:\")\n",
        "println(formula_regresion_logistica)"
      ],
      "metadata": {
        "id": "VvdDfmqxYYhd",
        "outputId": "b6dd2bea-3cc8-4d0c-fcca-02c7af725d5d",
        "colab": {
          "base_uri": "https://localhost:8080/"
        }
      },
      "execution_count": 117,
      "outputs": [
        {
          "output_type": "stream",
          "name": "stdout",
          "text": [
            "Fórmula de la regresión logística:\n",
            "P = 1 / (1 + exp(-(0.1600 + 0.0012x1 + 0.2741x2 + -0.1509x3 + 0.0100x4)))\n"
          ]
        }
      ]
    },
    {
      "cell_type": "code",
      "source": [
        "prediccion = predict(logit, test)"
      ],
      "metadata": {
        "id": "tpZnMlLXZOWf"
      },
      "execution_count": null,
      "outputs": []
    },
    {
      "cell_type": "code",
      "source": [
        "# Conversion de las probabilidades a clases\n",
        "evaluacion = [if x < 0.5 0 else 1 end for x in prediccion];\n",
        "\n",
        "prediccion_df = DataFrame(y_actual = test.clase,\n",
        "\t\t\t\t\t\ty_predicted = evaluacion,\n",
        "\t\t\t\t\t\tprob_predicted = prediccion);\n",
        "prediccion_df.correctly_classified = prediccion_df.y_actual .== prediccion_df.y_predicted"
      ],
      "metadata": {
        "id": "sGi4WJPPZTDq"
      },
      "execution_count": null,
      "outputs": []
    },
    {
      "cell_type": "code",
      "source": [
        "# Matriz de confusion\n",
        "matriz_de_confusion = MLBase.roc(prediccion_df.y_actual, prediccion_df.y_predicted)"
      ],
      "metadata": {
        "id": "Da57nHBQZ63p",
        "outputId": "59848be7-c9a3-4026-fec1-61249ac81eeb",
        "colab": {
          "base_uri": "https://localhost:8080/"
        }
      },
      "execution_count": 120,
      "outputs": [
        {
          "output_type": "execute_result",
          "data": {
            "text/plain": [
              "ROCNums{Int64}\n",
              "  p = 15\n",
              "  n = 30\n",
              "  tp = 12\n",
              "  tn = 22\n",
              "  fp = 8\n",
              "  fn = 3\n"
            ]
          },
          "metadata": {},
          "execution_count": 120
        }
      ]
    },
    {
      "cell_type": "code",
      "source": [
        "# gurdado de los valores de la matriz de confusion\n",
        "p = matriz_de_confusion.p\n",
        "n = matriz_de_confusion.n\n",
        "tp = matriz_de_confusion.tp\n",
        "tn = matriz_de_confusion.tn\n",
        "fp = matriz_de_confusion.fp\n",
        "fn = matriz_de_confusion.fn\n",
        "\n",
        "\n",
        "# Exactitud, Precision y Sensibilidad del modelo\n",
        "Exactitud = (tp + tn)/(tp + tn + fp + fn)\n",
        "Precision = tp/(tp + fn)\n",
        "Sensibilidad = tp/(tp + fn)\n",
        "println(\"Exactitud = \", Exactitud, \"\\n\", \"Precision = \", Precision, \"\\n\", \"Sensibilidad = \", Sensibilidad)"
      ],
      "metadata": {
        "id": "kzpdJg_2bP7X",
        "outputId": "30372bce-f21f-4cb7-a4bd-962fa30c001c",
        "colab": {
          "base_uri": "https://localhost:8080/"
        }
      },
      "execution_count": 128,
      "outputs": [
        {
          "output_type": "stream",
          "name": "stdout",
          "text": [
            "Exactitud = 0.7555555555555555\n",
            "Precision = 0.8\n",
            "Sensibilidad = 0.8\n"
          ]
        }
      ]
    }
  ]
}